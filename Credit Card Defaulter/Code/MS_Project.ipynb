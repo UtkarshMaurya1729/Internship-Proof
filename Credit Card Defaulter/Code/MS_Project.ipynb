{
  "cells": [
    {
      "cell_type": "code",
      "execution_count": 1,
      "metadata": {
        "id": "JKZ6ljzXrgaw"
      },
      "outputs": [],
      "source": [
        "# all required imports are here \n",
        "import pandas as pd\n",
        "import numpy as np\n",
        "\n",
        "\n",
        "# Data preprocessors\n",
        "from sklearn.utils import shuffle\n",
        "from sklearn.model_selection import train_test_split\n",
        "from sklearn.preprocessing import StandardScaler\n",
        "from sklearn.preprocessing import MinMaxScaler\n",
        "from sklearn.preprocessing import MultiLabelBinarizer\n",
        "from sklearn.preprocessing import LabelEncoder\n",
        "\n",
        "\n",
        "# Model Imports\n",
        "from sklearn.svm import SVC\n",
        "from sklearn.linear_model import LogisticRegression\n",
        "from sklearn.naive_bayes import GaussianNB\n",
        "from sklearn.neighbors import KNeighborsClassifier,KNeighborsRegressor\n",
        "\n",
        "# trees\n",
        "from sklearn.ensemble import GradientBoostingClassifier,GradientBoostingRegressor\n",
        "from sklearn.ensemble import RandomForestClassifier,RandomForestRegressor\n",
        "from sklearn.tree import DecisionTreeClassifier\n",
        "from sklearn.ensemble import ExtraTreesClassifier\n",
        "\n",
        "#metrics\n",
        "from sklearn.metrics import r2_score\n",
        "from sklearn.metrics import accuracy_score\n",
        "from sklearn.metrics import f1_score\n",
        "from sklearn.metrics import precision_recall_fscore_support as metrics_matrix\n",
        "\n",
        "# plotting tools\n",
        "from matplotlib import pyplot as plt\n",
        "import seaborn as sns\n",
        "%matplotlib inline"
      ]
    },
    {
      "cell_type": "code",
      "execution_count": null,
      "metadata": {
        "id": "Zq_Lewaf-YVj"
      },
      "outputs": [],
      "source": [
        "# ulpload your file to google drive and use the file here"
      ]
    },
    {
      "cell_type": "code",
      "execution_count": null,
      "metadata": {
        "id": "bXGd1jeXw7ck"
      },
      "outputs": [],
      "source": [
        "from google.colab import drive\n",
        "drive.mount('/content/drive')"
      ]
    },
    {
      "cell_type": "code",
      "execution_count": null,
      "metadata": {
        "id": "hjMWPcN09bx3"
      },
      "outputs": [],
      "source": [
        "# loading the Dataset :\n",
        "\n",
        "Train_Data = pd.read_csv('TrainingData.csv') # change the path accordingly\n",
        "Test_Data = pd.read_csv('testX.csv')\n",
        "\n",
        "# We won't Touch the Train_Data and Test_Data ; but we will copy the data in a new variable for our usage\n",
        "\n",
        "train_df = Train_Data.copy()\n",
        "test_df = Test_Data.copy()\n"
      ]
    },
    {
      "cell_type": "code",
      "execution_count": null,
      "metadata": {
        "id": "Hj5IuQVH9m2u"
      },
      "outputs": [],
      "source": [
        "train_df.info() # Checking the info of the training data"
      ]
    },
    {
      "cell_type": "code",
      "execution_count": null,
      "metadata": {
        "id": "btcZCpU79qc7"
      },
      "outputs": [],
      "source": [
        "# Preprocessing the Dataset \n",
        "# In Every column except column of var-47 all have numerical values ; so other than numerical values are considered as nan\n",
        "\n",
        "def is_float(x):\n",
        "    try:\n",
        "        float(x)\n",
        "        return True\n",
        "    except:\n",
        "        return False\n",
        "\n",
        "def change_columns(df):\n",
        "\n",
        "    columns_list = df.columns.values.tolist() # it will output the list of all columns\n",
        "\n",
        "    for i in columns_list : # Iterate through each column and it will change each column to 'nan' if it is not a number\n",
        "        if i != 'mvar47':\n",
        "            df[i] = df[i].apply( lambda x: float(str(x)) if ( isinstance(x,(float,int)) or str(x).isnumeric() or is_float(x) ) else np.nan )\n",
        "        else:\n",
        "            df[i] = df[i].apply( lambda x: ['C','L'].index(x) if x in ['C','L'] else np.nan )\n",
        "    return df\n",
        "\n",
        "transformed_train_df = change_columns(train_df)\n",
        "transformed_test_df = change_columns(test_df)"
      ]
    },
    {
      "cell_type": "code",
      "execution_count": null,
      "metadata": {
        "id": "wVYDuZAd9rgC"
      },
      "outputs": [],
      "source": [
        "transformed_train_df.info()\n",
        "transformed_test_df.info()\n",
        "# run upto this point\n",
        "# trnasformed_train_df and transformed_test_df are the the datasets with null values"
      ]
    },
    {
      "cell_type": "code",
      "execution_count": null,
      "metadata": {
        "id": "Js5wPYwb98pG"
      },
      "outputs": [],
      "source": [
        "median_train = transformed_train_df.fillna( transformed_train_df.median() )\n",
        "median_test = transformed_test_df.fillna( transformed_test_df.median() )\n",
        "\n",
        "# here filled with median values of the column\n",
        "median_train.info()\n",
        "median_test.info()"
      ]
    },
    {
      "cell_type": "code",
      "execution_count": null,
      "metadata": {
        "id": "0T0W9pMJ-Ooi"
      },
      "outputs": [],
      "source": [
        "# While training with a model make sure to remove the \" appplication_key \" column"
      ]
    }
  ],
  "metadata": {
    "colab": {
      "provenance": []
    },
    "kernelspec": {
      "display_name": "Python 3.10.4 64-bit",
      "language": "python",
      "name": "python3"
    },
    "language_info": {
      "name": "python",
      "version": "3.10.4"
    },
    "vscode": {
      "interpreter": {
        "hash": "4c5358ba3f0310509fb85b7fd5649f63cd7cec3c63d8ac9fbd534b44a72604c9"
      }
    }
  },
  "nbformat": 4,
  "nbformat_minor": 0
}
